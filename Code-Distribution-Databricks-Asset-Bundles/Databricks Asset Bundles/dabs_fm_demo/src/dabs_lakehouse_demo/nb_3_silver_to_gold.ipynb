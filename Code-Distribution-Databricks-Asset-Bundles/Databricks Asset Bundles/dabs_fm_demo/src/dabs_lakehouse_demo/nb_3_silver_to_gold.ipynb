{
 "cells": [
  {
   "cell_type": "markdown",
   "metadata": {
    "application/vnd.databricks.v1+cell": {
     "cellMetadata": {},
     "inputWidgets": {},
     "nuid": "db601695-4bf4-4e0b-a5e1-c290b3f0c878",
     "showTitle": false,
     "tableResultSettingsMap": {},
     "title": ""
    }
   },
   "source": [
    "# Databricks notebook for silver_to_gold"
   ]
  },
  {
   "cell_type": "markdown",
   "metadata": {
    "application/vnd.databricks.v1+cell": {
     "cellMetadata": {},
     "inputWidgets": {},
     "nuid": "53b79fff-3fbf-48aa-b619-453c3dd3e2ea",
     "showTitle": false,
     "tableResultSettingsMap": {},
     "title": ""
    }
   },
   "source": [
    "## Setup\n",
    "\n",
    "Let's start by setting up the environment and variables."
   ]
  },
  {
   "cell_type": "code",
   "execution_count": 0,
   "metadata": {
    "application/vnd.databricks.v1+cell": {
     "cellMetadata": {
      "byteLimit": 2048000,
      "rowLimit": 10000
     },
     "inputWidgets": {},
     "nuid": "98930e09-efa0-4195-8e2a-54f03a179fc8",
     "showTitle": false,
     "tableResultSettingsMap": {},
     "title": ""
    }
   },
   "outputs": [],
   "source": [
    "from pyspark.sql.types import *\n",
    "from pyspark.sql.functions import current_date, initcap"
   ]
  },
  {
   "cell_type": "code",
   "execution_count": 0,
   "metadata": {
    "application/vnd.databricks.v1+cell": {
     "cellMetadata": {
      "byteLimit": 2048000,
      "rowLimit": 10000
     },
     "inputWidgets": {},
     "nuid": "abc432d7-41d3-4b6e-b52d-99014175674b",
     "showTitle": false,
     "tableResultSettingsMap": {},
     "title": ""
    }
   },
   "outputs": [],
   "source": [
    "# Get Widgets (parameters)\n",
    "dbutils.widgets.text(\"catalog_name\", \"fm_sandbox_demo\")  # Default catalog\n",
    "dbutils.widgets.text(\"schema_name\", \"dabs_lakehouse\")  # Default schema\n",
    "dbutils.widgets.text(\"layer\", \"03_gold\")  # Default layer\n",
    "dbutils.widgets.text(\"destination_table\",\"customers\") # Default destination table\n",
    "dbutils.widgets.text(\"source_layer\", \"02_silv\")  # Default source layer\n",
    "dbutils.widgets.text(\"source_table\", \"customers\") # Default source table\n",
    "\n",
    "catalog_name            = dbutils.widgets.get(\"catalog_name\")\n",
    "schema_name             = dbutils.widgets.get(\"schema_name\")\n",
    "layer                   = dbutils.widgets.get(\"layer\")\n",
    "destination_table_name  = dbutils.widgets.get(\"destination_table\")\n",
    "source_layer            = dbutils.widgets.get(\"source_layer\")\n",
    "source_table_name       = dbutils.widgets.get(\"source_table\")\n",
    "\n",
    "external_storage_url    = \"abfss://main-unitycat@fmsandbox1adlseusdev.dfs.core.windows.net\""
   ]
  },
  {
   "cell_type": "markdown",
   "metadata": {
    "application/vnd.databricks.v1+cell": {
     "cellMetadata": {},
     "inputWidgets": {},
     "nuid": "7ca66534-7e7d-4da6-b6a9-1ed7a159b494",
     "showTitle": false,
     "tableResultSettingsMap": {},
     "title": ""
    }
   },
   "source": [
    "## Create Test Data"
   ]
  },
  {
   "cell_type": "code",
   "execution_count": 0,
   "metadata": {
    "application/vnd.databricks.v1+cell": {
     "cellMetadata": {
      "byteLimit": 2048000,
      "rowLimit": 10000
     },
     "inputWidgets": {},
     "nuid": "991c87ca-6ce6-4aa3-94ad-d0c2c80ec259",
     "showTitle": false,
     "tableResultSettingsMap": {},
     "title": ""
    }
   },
   "outputs": [],
   "source": [
    "# Define schema\n",
    "schema = StructType([StructField(name, StringType() if name != \"ID\" else IntegerType(), False) for name in \n",
    "                     [\"ID\", \"customer_name\", \"street\", \"city\", \"district\", \"state\", \"postcode\", \"region\"]])\n",
    "\n",
    "# Create test data\n",
    "data = [\n",
    "    (1, 'Alice Johnson', '123 Maple St', 'London', 'Camden', 'Greater London', 'NW1 5DB', 'england'),\n",
    "    (2, 'Bob Smith', '456 Oak Ave', 'Manchester', 'Didsbury', 'Greater Manchester', 'M20 2UF', 'england'),\n",
    "    (3, 'Charlie Brown', '789 Pine Rd', 'Birmingham', 'Edgbaston', 'West Midlands', 'B15 2TT', 'england'),\n",
    "    (4, 'David Miller', '101 Birch Blvd', 'Edinburgh', 'Leith', 'City of Edinburgh', 'EH6 6NZ', 'scotland'),\n",
    "    (5, 'Eva White', '202 Cedar Ln', 'Glasgow', 'Hillhead', 'Glasgow City', 'G12 8QQ', 'scotland'),\n",
    "    (6, 'Frank Harris', '303 Elm St', 'Bristol', 'Clifton', 'Bristol', 'BS8 1UD', 'england'),\n",
    "    (7, 'Grace Lee', '404 Willow Dr', 'Liverpool', 'Wavertree', 'Merseyside', 'L15 1HN', 'england'),\n",
    "    (8, 'Henry Clark', '505 Aspen Ct', 'Cardiff', 'Roath', 'Cardiff', 'CF24 3EX', 'wales'),\n",
    "    (9, 'Isabella Davis', '606 Spruce Ave', 'Belfast', 'Botanic', 'Belfast', 'BT7 1NN', 'northern ireland'),\n",
    "    (10, 'Jack Wilson', '707 Redwood Way', 'Oxford', 'Headington', 'Oxfordshire', 'OX3 9DU', 'england')\n",
    "]\n",
    "\n",
    "# # Create DataFrame\n",
    "# df_source = spark.createDataFrame(data, schema=schema)\n",
    "\n",
    "# # Display DataFrame\n",
    "# display(df_source)"
   ]
  },
  {
   "cell_type": "markdown",
   "metadata": {
    "application/vnd.databricks.v1+cell": {
     "cellMetadata": {},
     "inputWidgets": {},
     "nuid": "f9f39c6a-6316-4946-bb0d-066b65802f9b",
     "showTitle": false,
     "tableResultSettingsMap": {},
     "title": ""
    }
   },
   "source": [
    "## Read Source Data\n",
    "If layer equals bronze `then` create dataframe `else` read from source table"
   ]
  },
  {
   "cell_type": "code",
   "execution_count": 0,
   "metadata": {
    "application/vnd.databricks.v1+cell": {
     "cellMetadata": {
      "byteLimit": 2048000,
      "rowLimit": 10000
     },
     "inputWidgets": {},
     "nuid": "6d1c7262-f6a8-4906-87fa-6b3b05d8a606",
     "showTitle": false,
     "tableResultSettingsMap": {},
     "title": ""
    }
   },
   "outputs": [],
   "source": [
    "# Read source data - if layer equals bronze `then` create dataframe `else` read from source table\n",
    "if layer == \"01_bron\":\n",
    "    # Create DataFrame\n",
    "    df_source = spark.createDataFrame(data, schema=schema)\n",
    "else:\n",
    "    # Read source data from table\n",
    "    df_source = spark.read.table(f\"{catalog_name}.{schema_name}.{source_layer}_{source_table_name}\")\n",
    "\n",
    "# Display DataFrame\n",
    "display(df_source)"
   ]
  },
  {
   "cell_type": "markdown",
   "metadata": {
    "application/vnd.databricks.v1+cell": {
     "cellMetadata": {},
     "inputWidgets": {},
     "nuid": "8f319a33-e94a-45b9-9d65-cb4502935dfa",
     "showTitle": false,
     "tableResultSettingsMap": {},
     "title": ""
    }
   },
   "source": [
    "## Apply Transformation"
   ]
  },
  {
   "cell_type": "code",
   "execution_count": 0,
   "metadata": {
    "application/vnd.databricks.v1+cell": {
     "cellMetadata": {
      "byteLimit": 2048000,
      "rowLimit": 10000
     },
     "inputWidgets": {},
     "nuid": "1a52f4c2-e224-4269-941f-5326b3dd6173",
     "showTitle": false,
     "tableResultSettingsMap": {},
     "title": ""
    }
   },
   "outputs": [],
   "source": [
    "# Apply transformation: add ingested date and capitalise region\n",
    "df_transformed = (  df_source\n",
    "                      .withColumn(\"ingested_date\", current_date())\n",
    "                      .withColumn(\"region\", initcap(df_source[\"region\"]))\n",
    "                  )\n",
    "\n",
    "# # Display DataFrame\n",
    "display(df_transformed)"
   ]
  },
  {
   "cell_type": "code",
   "execution_count": 0,
   "metadata": {
    "application/vnd.databricks.v1+cell": {
     "cellMetadata": {
      "byteLimit": 2048000,
      "rowLimit": 10000
     },
     "inputWidgets": {},
     "nuid": "067665c2-cf6d-43ae-bed2-81fc757aad82",
     "showTitle": false,
     "tableResultSettingsMap": {},
     "title": ""
    }
   },
   "outputs": [],
   "source": [
    "# Define storage location and table path\n",
    "storage_location = f\"{external_storage_url}/{catalog_name}/{schema_name}/{layer}_{destination_table_name}\"\n",
    "destination_full_table_name = f\"{catalog_name}.{schema_name}.{layer}_{destination_table_name}\"\n",
    "\n",
    "# Use catalog\n",
    "spark.sql(f\"USE CATALOG {catalog_name}\")\n",
    "\n",
    "# Ensure schema exists\n",
    "spark.sql(f\"CREATE SCHEMA IF NOT EXISTS {catalog_name}.{schema_name}\")\n",
    "\n",
    "# Write DataFrame to Unity Catalog in Delta format\n",
    "(df_transformed.write\n",
    "    .format(\"delta\")\n",
    "    .mode(\"overwrite\")\n",
    "    .option(\"overwriteSchema\", \"true\")\n",
    "    .option(\"path\", storage_location)\n",
    "    .saveAsTable(destination_full_table_name)\n",
    ")"
   ]
  },
  {
   "cell_type": "markdown",
   "metadata": {
    "application/vnd.databricks.v1+cell": {
     "cellMetadata": {},
     "inputWidgets": {},
     "nuid": "410b7909-0398-476d-8797-a6fa3087dcd6",
     "showTitle": false,
     "tableResultSettingsMap": {},
     "title": ""
    }
   },
   "source": [
    "## Clean Up"
   ]
  },
  {
   "cell_type": "code",
   "execution_count": 0,
   "metadata": {
    "application/vnd.databricks.v1+cell": {
     "cellMetadata": {
      "byteLimit": 2048000,
      "rowLimit": 10000
     },
     "inputWidgets": {},
     "nuid": "e6467973-c505-4a09-a84a-408159a6ac83",
     "showTitle": false,
     "tableResultSettingsMap": {},
     "title": ""
    }
   },
   "outputs": [],
   "source": [
    "# storage_location = f\"{external_storage_url}/{catalog_name}/{schema_name}/{layer}_{destination_table_name}\"\n",
    "# spark.sql(f\"DROP TABLE IF EXISTS {catalog_name}.{schema_name}.{layer}_{destination_table_name}\")\n",
    "# spark.sql(f\"DROP SCHEMA IF EXISTS {catalog_name}.{schema_name}\")\n",
    "# dbutils.fs.rm(f\"{storage_location}\",True)"
   ]
  },
  {
   "cell_type": "markdown",
   "metadata": {
    "application/vnd.databricks.v1+cell": {
     "cellMetadata": {},
     "inputWidgets": {},
     "nuid": "53ed55f9-254b-4e32-a578-5aef5d52dcd5",
     "showTitle": false,
     "tableResultSettingsMap": {},
     "title": ""
    }
   },
   "source": [
    "Notebook finished."
   ]
  }
 ],
 "metadata": {
  "application/vnd.databricks.v1+notebook": {
   "computePreferences": null,
   "dashboards": [],
   "environmentMetadata": null,
   "language": "python",
   "notebookMetadata": {
    "pythonIndentUnit": 4
   },
   "notebookName": "nb_1_landing_to_bronze",
   "widgets": {
    "catalog_name": {
     "currentValue": "fm_sandbox_demo",
     "nuid": "ae2326f2-d1e7-4914-a408-7b34d3f4b12f",
     "typedWidgetInfo": {
      "autoCreated": false,
      "defaultValue": "fm_sandbox_demo",
      "label": null,
      "name": "catalog_name",
      "options": {
       "validationRegex": null,
       "widgetDisplayType": "Text"
      },
      "parameterDataType": "String"
     },
     "widgetInfo": {
      "defaultValue": "fm_sandbox_demo",
      "label": null,
      "name": "catalog_name",
      "options": {
       "autoCreated": null,
       "validationRegex": null,
       "widgetType": "text"
      },
      "widgetType": "text"
     }
    },
    "destination_table": {
     "currentValue": "customer",
     "nuid": "da61ced1-0f64-43c5-895e-4aff88428b0e",
     "typedWidgetInfo": {
      "autoCreated": false,
      "defaultValue": "customers",
      "label": null,
      "name": "destination_table",
      "options": {
       "validationRegex": null,
       "widgetDisplayType": "Text"
      },
      "parameterDataType": "String"
     },
     "widgetInfo": {
      "defaultValue": "customers",
      "label": null,
      "name": "destination_table",
      "options": {
       "autoCreated": null,
       "validationRegex": null,
       "widgetType": "text"
      },
      "widgetType": "text"
     }
    },
    "layer": {
     "currentValue": "01_bron",
     "nuid": "ee48167c-aff7-43ed-b0d0-a9b239fd713d",
     "typedWidgetInfo": {
      "autoCreated": false,
      "defaultValue": "01_bron",
      "label": null,
      "name": "layer",
      "options": {
       "validationRegex": null,
       "widgetDisplayType": "Text"
      },
      "parameterDataType": "String"
     },
     "widgetInfo": {
      "defaultValue": "01_bron",
      "label": null,
      "name": "layer",
      "options": {
       "autoCreated": null,
       "validationRegex": null,
       "widgetType": "text"
      },
      "widgetType": "text"
     }
    },
    "schema_name": {
     "currentValue": "dabs_lakehouse",
     "nuid": "3838c364-3ac8-49d0-81c3-9277aebee44b",
     "typedWidgetInfo": {
      "autoCreated": false,
      "defaultValue": "dabs_lakehouse",
      "label": null,
      "name": "schema_name",
      "options": {
       "validationRegex": null,
       "widgetDisplayType": "Text"
      },
      "parameterDataType": "String"
     },
     "widgetInfo": {
      "defaultValue": "dabs_lakehouse",
      "label": null,
      "name": "schema_name",
      "options": {
       "autoCreated": null,
       "validationRegex": null,
       "widgetType": "text"
      },
      "widgetType": "text"
     }
    },
    "source_table": {
     "currentValue": "customers",
     "nuid": "435fc0b0-b502-400a-89a1-00b0199a8cbf",
     "typedWidgetInfo": {
      "autoCreated": false,
      "defaultValue": "customer",
      "label": null,
      "name": "source_table",
      "options": {
       "validationRegex": null,
       "widgetDisplayType": "Text"
      },
      "parameterDataType": "String"
     },
     "widgetInfo": {
      "defaultValue": "customer",
      "label": null,
      "name": "source_table",
      "options": {
       "autoCreated": null,
       "validationRegex": null,
       "widgetType": "text"
      },
      "widgetType": "text"
     }
    }
   }
  },
  "kernelspec": {
   "display_name": "Python 3",
   "language": "python",
   "name": "python3"
  },
  "language_info": {
   "name": "python"
  }
 },
 "nbformat": 4,
 "nbformat_minor": 0
}
