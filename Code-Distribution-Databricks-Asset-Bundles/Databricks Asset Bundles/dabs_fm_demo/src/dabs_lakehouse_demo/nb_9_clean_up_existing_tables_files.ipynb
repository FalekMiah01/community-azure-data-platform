{
 "cells": [
  {
   "cell_type": "markdown",
   "metadata": {
    "application/vnd.databricks.v1+cell": {
     "cellMetadata": {},
     "inputWidgets": {},
     "nuid": "db601695-4bf4-4e0b-a5e1-c290b3f0c878",
     "showTitle": false,
     "tableResultSettingsMap": {},
     "title": ""
    }
   },
   "source": [
    "# Clean up Exsiting Tables & Files"
   ]
  },
  {
   "cell_type": "code",
   "execution_count": 0,
   "metadata": {
    "application/vnd.databricks.v1+cell": {
     "cellMetadata": {
      "byteLimit": 2048000,
      "rowLimit": 10000
     },
     "inputWidgets": {},
     "nuid": "98930e09-efa0-4195-8e2a-54f03a179fc8",
     "showTitle": false,
     "tableResultSettingsMap": {},
     "title": ""
    }
   },
   "outputs": [],
   "source": [
    "print(\"Delete Existing Tables & Files\")\n",
    "print(\"Info: In Progress...\")"
   ]
  },
  {
   "cell_type": "markdown",
   "metadata": {
    "application/vnd.databricks.v1+cell": {
     "cellMetadata": {},
     "inputWidgets": {},
     "nuid": "410b7909-0398-476d-8797-a6fa3087dcd6",
     "showTitle": false,
     "tableResultSettingsMap": {},
     "title": ""
    }
   },
   "source": [
    "## Setup\n",
    "\n",
    "Setup the environment and variables."
   ]
  },
  {
   "cell_type": "code",
   "execution_count": null,
   "metadata": {},
   "outputs": [],
   "source": [
    "external_storage_url = \"abfss://main-unitycat@fmsandbox1adlseusdev.dfs.core.windows.net\"\n",
    "catalog_name     = \"fm_sandbox_demo\"\n",
    "schema_name      = \"dabs_lakehouse\"\n",
    "\n",
    "bron_table_name  = \"01_bron_customers\"\n",
    "silv_table_name  = \"02_silv_customers\"\n",
    "gold_table_name  = \"03_gold_customers\""
   ]
  },
  {
   "cell_type": "markdown",
   "metadata": {},
   "source": [
    "## Delete Tables"
   ]
  },
  {
   "cell_type": "code",
   "execution_count": 0,
   "metadata": {
    "application/vnd.databricks.v1+cell": {
     "cellMetadata": {
      "byteLimit": 2048000,
      "rowLimit": 10000
     },
     "inputWidgets": {},
     "nuid": "e6467973-c505-4a09-a84a-408159a6ac83",
     "showTitle": false,
     "tableResultSettingsMap": {},
     "title": ""
    }
   },
   "outputs": [],
   "source": [
    "## Delete Bronze Tables & Files\n",
    "spark.sql(f\"DROP TABLE IF EXISTS {catalog_name}.{schema_name}.{bron_table_name}\")\n",
    "dbutils.fs.rm(f\"{external_storage_url}/{catalog_name}/{schema_name}/{bron_table_name}\",True)\n",
    "print(f\"Info: Deleted Table - {bron_table_name}\")\n",
    "\n",
    "## Delete Sliver Tables & Files\n",
    "spark.sql(f\"DROP TABLE IF EXISTS {catalog_name}.{schema_name}.{silv_table_name}\")\n",
    "dbutils.fs.rm(f\"{external_storage_url}/{catalog_name}/{schema_name}/{silv_table_name}\",True)\n",
    "print(f\"Info: Deleted Table - {silv_table_name}\")\n",
    "\n",
    "\n",
    "# Delete Gold Tables & Files\n",
    "spark.sql(f\"DROP TABLE IF EXISTS {catalog_name}.{schema_name}.{gold_table_name}\")\n",
    "dbutils.fs.rm(f\"{external_storage_url}/{catalog_name}/{schema_name}/{gold_table_name}\",True)\n",
    "print(f\"Info: Deleted Table - {gold_table_name}\")"
   ]
  },
  {
   "cell_type": "markdown",
   "metadata": {},
   "source": [
    "## Delete Schema"
   ]
  },
  {
   "cell_type": "code",
   "execution_count": null,
   "metadata": {},
   "outputs": [],
   "source": [
    "# Delete Schema\n",
    "spark.sql(f\"DROP SCHEMA IF EXISTS {catalog_name}.{schema_name}\")\n",
    "print(f\"Info: Deleted schema - {schema_name}\")"
   ]
  },
  {
   "cell_type": "code",
   "execution_count": null,
   "metadata": {},
   "outputs": [],
   "source": [
    "print(\"Info: Finished.\")"
   ]
  },
  {
   "cell_type": "code",
   "execution_count": null,
   "metadata": {},
   "outputs": [],
   "source": [
    "# spark.sql(\"DROP TABLE IF EXISTS fm_sandbox_demo.dabs_lakehouse.01_bron_customer\")\n",
    "# spark.sql(\"DROP SCHEMA IF EXISTS fm_sandbox_demo.dabs_lakehouse\")\n",
    "# dbutils.fs.rm(\"abfss://main-unitycat@fmsandbox1adlseusdev.dfs.core.windows.net/fm_sandbox_demo/dabs_lakehouse/01_bron_customers\",True)"
   ]
  }
 ],
 "metadata": {
  "application/vnd.databricks.v1+notebook": {
   "computePreferences": null,
   "dashboards": [],
   "environmentMetadata": null,
   "language": "python",
   "notebookMetadata": {
    "pythonIndentUnit": 4
   },
   "notebookName": "nb_1_landing_to_bronze",
   "widgets": {
    "catalog_name": {
     "currentValue": "fm_sandbox_demo",
     "nuid": "ae2326f2-d1e7-4914-a408-7b34d3f4b12f",
     "typedWidgetInfo": {
      "autoCreated": false,
      "defaultValue": "fm_sandbox_demo",
      "label": null,
      "name": "catalog_name",
      "options": {
       "validationRegex": null,
       "widgetDisplayType": "Text"
      },
      "parameterDataType": "String"
     },
     "widgetInfo": {
      "defaultValue": "fm_sandbox_demo",
      "label": null,
      "name": "catalog_name",
      "options": {
       "autoCreated": null,
       "validationRegex": null,
       "widgetType": "text"
      },
      "widgetType": "text"
     }
    },
    "destination_table": {
     "currentValue": "customer",
     "nuid": "da61ced1-0f64-43c5-895e-4aff88428b0e",
     "typedWidgetInfo": {
      "autoCreated": false,
      "defaultValue": "customers",
      "label": null,
      "name": "destination_table",
      "options": {
       "validationRegex": null,
       "widgetDisplayType": "Text"
      },
      "parameterDataType": "String"
     },
     "widgetInfo": {
      "defaultValue": "customers",
      "label": null,
      "name": "destination_table",
      "options": {
       "autoCreated": null,
       "validationRegex": null,
       "widgetType": "text"
      },
      "widgetType": "text"
     }
    },
    "layer": {
     "currentValue": "01_bron",
     "nuid": "ee48167c-aff7-43ed-b0d0-a9b239fd713d",
     "typedWidgetInfo": {
      "autoCreated": false,
      "defaultValue": "01_bron",
      "label": null,
      "name": "layer",
      "options": {
       "validationRegex": null,
       "widgetDisplayType": "Text"
      },
      "parameterDataType": "String"
     },
     "widgetInfo": {
      "defaultValue": "01_bron",
      "label": null,
      "name": "layer",
      "options": {
       "autoCreated": null,
       "validationRegex": null,
       "widgetType": "text"
      },
      "widgetType": "text"
     }
    },
    "schema_name": {
     "currentValue": "dabs_lakehouse",
     "nuid": "3838c364-3ac8-49d0-81c3-9277aebee44b",
     "typedWidgetInfo": {
      "autoCreated": false,
      "defaultValue": "dabs_lakehouse",
      "label": null,
      "name": "schema_name",
      "options": {
       "validationRegex": null,
       "widgetDisplayType": "Text"
      },
      "parameterDataType": "String"
     },
     "widgetInfo": {
      "defaultValue": "dabs_lakehouse",
      "label": null,
      "name": "schema_name",
      "options": {
       "autoCreated": null,
       "validationRegex": null,
       "widgetType": "text"
      },
      "widgetType": "text"
     }
    },
    "source_table": {
     "currentValue": "customers",
     "nuid": "435fc0b0-b502-400a-89a1-00b0199a8cbf",
     "typedWidgetInfo": {
      "autoCreated": false,
      "defaultValue": "customer",
      "label": null,
      "name": "source_table",
      "options": {
       "validationRegex": null,
       "widgetDisplayType": "Text"
      },
      "parameterDataType": "String"
     },
     "widgetInfo": {
      "defaultValue": "customer",
      "label": null,
      "name": "source_table",
      "options": {
       "autoCreated": null,
       "validationRegex": null,
       "widgetType": "text"
      },
      "widgetType": "text"
     }
    }
   }
  },
  "kernelspec": {
   "display_name": "Python 3",
   "language": "python",
   "name": "python3"
  },
  "language_info": {
   "name": "python"
  }
 },
 "nbformat": 4,
 "nbformat_minor": 0
}
